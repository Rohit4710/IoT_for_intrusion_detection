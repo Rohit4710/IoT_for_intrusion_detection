{
 "cells": [
  {
   "cell_type": "markdown",
   "metadata": {
    "papermill": {
     "duration": 0.025071,
     "end_time": "2021-11-29T18:40:55.045554",
     "exception": false,
     "start_time": "2021-11-29T18:40:55.020483",
     "status": "completed"
    },
    "tags": []
   },
   "source": [
    "# Intrusion Detection in IOT"
   ]
  },
  {
   "cell_type": "markdown",
   "metadata": {
    "papermill": {
     "duration": 0.021349,
     "end_time": "2021-11-29T18:40:55.089045",
     "exception": false,
     "start_time": "2021-11-29T18:40:55.067696",
     "status": "completed"
    },
    "tags": []
   },
   "source": [
    "## Importing Libraries"
   ]
  },
  {
   "cell_type": "code",
   "execution_count": 1,
   "metadata": {
    "execution": {
     "iopub.execute_input": "2023-02-19T19:43:05.633266Z",
     "iopub.status.busy": "2023-02-19T19:43:05.631943Z",
     "iopub.status.idle": "2023-02-19T19:43:38.975105Z",
     "shell.execute_reply": "2023-02-19T19:43:38.973890Z",
     "shell.execute_reply.started": "2023-02-19T19:43:05.633141Z"
    }
   },
   "outputs": [
    {
     "name": "stdout",
     "output_type": "stream",
     "text": [
      "Requirement already satisfied: tensorflow in /opt/conda/lib/python3.7/site-packages (2.6.0)\n",
      "Requirement already satisfied: wrapt~=1.12.1 in /opt/conda/lib/python3.7/site-packages (from tensorflow) (1.12.1)\n",
      "Requirement already satisfied: termcolor~=1.1.0 in /opt/conda/lib/python3.7/site-packages (from tensorflow) (1.1.0)\n",
      "Requirement already satisfied: numpy~=1.19.2 in /opt/conda/lib/python3.7/site-packages (from tensorflow) (1.19.5)\n",
      "Requirement already satisfied: keras~=2.6 in /opt/conda/lib/python3.7/site-packages (from tensorflow) (2.6.0)\n",
      "Requirement already satisfied: google-pasta~=0.2 in /opt/conda/lib/python3.7/site-packages (from tensorflow) (0.2.0)\n",
      "Requirement already satisfied: absl-py~=0.10 in /opt/conda/lib/python3.7/site-packages (from tensorflow) (0.14.0)\n",
      "Requirement already satisfied: gast==0.4.0 in /opt/conda/lib/python3.7/site-packages (from tensorflow) (0.4.0)\n",
      "Requirement already satisfied: tensorflow-estimator~=2.6 in /opt/conda/lib/python3.7/site-packages (from tensorflow) (2.6.0)\n",
      "Requirement already satisfied: keras-preprocessing~=1.1.2 in /opt/conda/lib/python3.7/site-packages (from tensorflow) (1.1.2)\n",
      "Requirement already satisfied: h5py~=3.1.0 in /opt/conda/lib/python3.7/site-packages (from tensorflow) (3.1.0)\n",
      "Collecting typing-extensions~=3.7.4\n",
      "  Downloading typing_extensions-3.7.4.3-py3-none-any.whl (22 kB)\n",
      "Requirement already satisfied: clang~=5.0 in /opt/conda/lib/python3.7/site-packages (from tensorflow) (5.0)\n",
      "Collecting tensorboard~=2.6\n",
      "  Downloading tensorboard-2.11.2-py3-none-any.whl (6.0 MB)\n",
      "\u001b[K     |████████████████████████████████| 6.0 MB 767 kB/s eta 0:00:01\n",
      "\u001b[?25hRequirement already satisfied: flatbuffers~=1.12.0 in /opt/conda/lib/python3.7/site-packages (from tensorflow) (1.12)\n",
      "Requirement already satisfied: grpcio<2.0,>=1.37.0 in /opt/conda/lib/python3.7/site-packages (from tensorflow) (1.38.1)\n",
      "Requirement already satisfied: protobuf>=3.9.2 in /opt/conda/lib/python3.7/site-packages (from tensorflow) (3.19.0)\n",
      "Collecting six~=1.15.0\n",
      "  Downloading six-1.15.0-py2.py3-none-any.whl (10 kB)\n",
      "Requirement already satisfied: astunparse~=1.6.3 in /opt/conda/lib/python3.7/site-packages (from tensorflow) (1.6.3)\n",
      "Requirement already satisfied: opt-einsum~=3.3.0 in /opt/conda/lib/python3.7/site-packages (from tensorflow) (3.3.0)\n",
      "Requirement already satisfied: wheel~=0.35 in /opt/conda/lib/python3.7/site-packages (from tensorflow) (0.37.0)\n",
      "Requirement already satisfied: cached-property in /opt/conda/lib/python3.7/site-packages (from h5py~=3.1.0->tensorflow) (1.5.2)\n",
      "Requirement already satisfied: tensorboard-plugin-wit>=1.6.0 in /opt/conda/lib/python3.7/site-packages (from tensorboard~=2.6->tensorflow) (1.8.0)\n",
      "Requirement already satisfied: markdown>=2.6.8 in /opt/conda/lib/python3.7/site-packages (from tensorboard~=2.6->tensorflow) (3.3.4)\n",
      "Requirement already satisfied: setuptools>=41.0.0 in /opt/conda/lib/python3.7/site-packages (from tensorboard~=2.6->tensorflow) (58.0.4)\n",
      "Requirement already satisfied: tensorboard-data-server<0.7.0,>=0.6.0 in /opt/conda/lib/python3.7/site-packages (from tensorboard~=2.6->tensorflow) (0.6.1)\n",
      "Requirement already satisfied: requests<3,>=2.21.0 in /opt/conda/lib/python3.7/site-packages (from tensorboard~=2.6->tensorflow) (2.25.1)\n",
      "Requirement already satisfied: google-auth-oauthlib<0.5,>=0.4.1 in /opt/conda/lib/python3.7/site-packages (from tensorboard~=2.6->tensorflow) (0.4.6)\n",
      "Requirement already satisfied: werkzeug>=1.0.1 in /opt/conda/lib/python3.7/site-packages (from tensorboard~=2.6->tensorflow) (2.0.1)\n",
      "Requirement already satisfied: google-auth<3,>=1.6.3 in /opt/conda/lib/python3.7/site-packages (from tensorboard~=2.6->tensorflow) (1.35.0)\n",
      "Requirement already satisfied: pyasn1-modules>=0.2.1 in /opt/conda/lib/python3.7/site-packages (from google-auth<3,>=1.6.3->tensorboard~=2.6->tensorflow) (0.2.7)\n",
      "Requirement already satisfied: cachetools<5.0,>=2.0.0 in /opt/conda/lib/python3.7/site-packages (from google-auth<3,>=1.6.3->tensorboard~=2.6->tensorflow) (4.2.2)\n",
      "Requirement already satisfied: rsa<5,>=3.1.4 in /opt/conda/lib/python3.7/site-packages (from google-auth<3,>=1.6.3->tensorboard~=2.6->tensorflow) (4.7.2)\n",
      "Requirement already satisfied: requests-oauthlib>=0.7.0 in /opt/conda/lib/python3.7/site-packages (from google-auth-oauthlib<0.5,>=0.4.1->tensorboard~=2.6->tensorflow) (1.3.0)\n",
      "Requirement already satisfied: importlib-metadata in /opt/conda/lib/python3.7/site-packages (from markdown>=2.6.8->tensorboard~=2.6->tensorflow) (4.8.1)\n",
      "Requirement already satisfied: pyasn1<0.5.0,>=0.4.6 in /opt/conda/lib/python3.7/site-packages (from pyasn1-modules>=0.2.1->google-auth<3,>=1.6.3->tensorboard~=2.6->tensorflow) (0.4.8)\n",
      "Requirement already satisfied: idna<3,>=2.5 in /opt/conda/lib/python3.7/site-packages (from requests<3,>=2.21.0->tensorboard~=2.6->tensorflow) (2.10)\n",
      "Requirement already satisfied: chardet<5,>=3.0.2 in /opt/conda/lib/python3.7/site-packages (from requests<3,>=2.21.0->tensorboard~=2.6->tensorflow) (4.0.0)\n",
      "Requirement already satisfied: urllib3<1.27,>=1.21.1 in /opt/conda/lib/python3.7/site-packages (from requests<3,>=2.21.0->tensorboard~=2.6->tensorflow) (1.26.6)\n",
      "Requirement already satisfied: certifi>=2017.4.17 in /opt/conda/lib/python3.7/site-packages (from requests<3,>=2.21.0->tensorboard~=2.6->tensorflow) (2021.10.8)\n",
      "Requirement already satisfied: oauthlib>=3.0.0 in /opt/conda/lib/python3.7/site-packages (from requests-oauthlib>=0.7.0->google-auth-oauthlib<0.5,>=0.4.1->tensorboard~=2.6->tensorflow) (3.1.1)\n",
      "Requirement already satisfied: zipp>=0.5 in /opt/conda/lib/python3.7/site-packages (from importlib-metadata->markdown>=2.6.8->tensorboard~=2.6->tensorflow) (3.5.0)\n",
      "Installing collected packages: typing-extensions, six, tensorboard\n",
      "  Attempting uninstall: typing-extensions\n",
      "    Found existing installation: typing-extensions 3.10.0.2\n",
      "    Uninstalling typing-extensions-3.10.0.2:\n",
      "      Successfully uninstalled typing-extensions-3.10.0.2\n",
      "  Attempting uninstall: six\n",
      "    Found existing installation: six 1.16.0\n",
      "    Uninstalling six-1.16.0:\n",
      "      Successfully uninstalled six-1.16.0\n",
      "  Attempting uninstall: tensorboard\n",
      "    Found existing installation: tensorboard 2.5.0\n",
      "    Uninstalling tensorboard-2.5.0:\n",
      "      Successfully uninstalled tensorboard-2.5.0\n",
      "\u001b[31mERROR: pip's dependency resolver does not currently take into account all the packages that are installed. This behaviour is the source of the following dependency conflicts.\n",
      "tensorflow-io 0.18.0 requires tensorflow-io-gcs-filesystem==0.18.0, which is not installed.\n",
      "explainable-ai-sdk 1.3.2 requires xai-image-widget, which is not installed.\n",
      "beatrix-jupyterlab 3.1.1 requires google-cloud-bigquery-storage, which is not installed.\n",
      "tensorflow-transform 1.3.0 requires absl-py<0.13,>=0.9, but you have absl-py 0.14.0 which is incompatible.\n",
      "tensorflow-transform 1.3.0 requires pyarrow<3,>=1, but you have pyarrow 5.0.0 which is incompatible.\n",
      "tensorflow-io 0.18.0 requires tensorflow<2.6.0,>=2.5.0, but you have tensorflow 2.6.0 which is incompatible.\n",
      "gcsfs 2021.8.1 requires fsspec==2021.08.1, but you have fsspec 2021.10.1 which is incompatible.\n",
      "flake8 4.0.1 requires importlib-metadata<4.3; python_version < \"3.8\", but you have importlib-metadata 4.8.1 which is incompatible.\n",
      "cloud-tpu-client 0.10 requires google-api-python-client==1.8.0, but you have google-api-python-client 1.12.8 which is incompatible.\n",
      "bokeh 2.4.1 requires typing-extensions>=3.10.0, but you have typing-extensions 3.7.4.3 which is incompatible.\n",
      "black 21.9b0 requires typing-extensions>=3.10.0.0, but you have typing-extensions 3.7.4.3 which is incompatible.\n",
      "apache-beam 2.32.0 requires dill<0.3.2,>=0.3.1.1, but you have dill 0.3.4 which is incompatible.\n",
      "apache-beam 2.32.0 requires pyarrow<5.0.0,>=0.15.1, but you have pyarrow 5.0.0 which is incompatible.\n",
      "aiobotocore 1.4.2 requires botocore<1.20.107,>=1.20.106, but you have botocore 1.22.4 which is incompatible.\u001b[0m\n",
      "Successfully installed six-1.15.0 tensorboard-2.11.2 typing-extensions-3.7.4.3\n",
      "\u001b[33mWARNING: Running pip as the 'root' user can result in broken permissions and conflicting behaviour with the system package manager. It is recommended to use a virtual environment instead: https://pip.pypa.io/warnings/venv\u001b[0m\n",
      "Note: you may need to restart the kernel to use updated packages.\n"
     ]
    }
   ],
   "source": [
    "pip install tensorflow"
   ]
  },
  {
   "cell_type": "code",
   "execution_count": 2,
   "metadata": {
    "_cell_guid": "79c7e3d0-c299-4dcb-8224-4455121ee9b0",
    "_uuid": "d629ff2d2480ee46fbb7e2d37f6b5fab8052498a",
    "execution": {
     "iopub.execute_input": "2023-02-19T19:44:24.068219Z",
     "iopub.status.busy": "2023-02-19T19:44:24.067789Z",
     "iopub.status.idle": "2023-02-19T19:44:33.596802Z",
     "shell.execute_reply": "2023-02-19T19:44:33.595656Z",
     "shell.execute_reply.started": "2023-02-19T19:44:24.068170Z"
    },
    "papermill": {
     "duration": 7.798722,
     "end_time": "2021-11-29T18:41:02.909475",
     "exception": false,
     "start_time": "2021-11-29T18:40:55.110753",
     "status": "completed"
    },
    "tags": []
   },
   "outputs": [],
   "source": [
    "import numpy as np\n",
    "import pandas as pd\n",
    "import os\n",
    "import gc\n",
    "import matplotlib.pyplot as plt\n",
    "import seaborn as sns\n",
    "import plotly.express as px\n",
    "#import libraries\n",
    "from sklearn.model_selection import train_test_split\n",
    "from sklearn.metrics import roc_curve, auc\n",
    "from sklearn import metrics\n",
    "from tensorflow.keras.models import Sequential\n",
    "from tensorflow.keras.layers import Dense, Activation,Dropout\n",
    "from tensorflow.keras.callbacks import ModelCheckpoint, EarlyStopping, ReduceLROnPlateau\n",
    "from tensorflow.keras.optimizers import SGD,Adam\n",
    "import keras\n",
    "# Conv1D + LSTM\n",
    "from keras.layers.convolutional import Conv1D,MaxPooling1D\n",
    "from keras.layers import LSTM\n",
    "from keras.layers import Dense,Dropout\n",
    "from keras.layers import Flatten"
   ]
  },
  {
   "cell_type": "markdown",
   "metadata": {
    "papermill": {
     "duration": 0.022128,
     "end_time": "2021-11-29T18:41:02.954029",
     "exception": false,
     "start_time": "2021-11-29T18:41:02.931901",
     "status": "completed"
    },
    "tags": []
   },
   "source": [
    "# Data Feed and Processing"
   ]
  },
  {
   "cell_type": "code",
   "execution_count": 5,
   "metadata": {
    "execution": {
     "iopub.execute_input": "2023-02-19T19:45:35.298274Z",
     "iopub.status.busy": "2023-02-19T19:45:35.297894Z",
     "iopub.status.idle": "2023-02-19T19:45:46.053149Z",
     "shell.execute_reply": "2023-02-19T19:45:46.051906Z",
     "shell.execute_reply.started": "2023-02-19T19:45:35.298239Z"
    },
    "papermill": {
     "duration": 10.933869,
     "end_time": "2021-11-29T18:41:13.90962",
     "exception": false,
     "start_time": "2021-11-29T18:41:02.975751",
     "status": "completed"
    },
    "tags": []
   },
   "outputs": [
    {
     "data": {
      "text/html": [
       "<div>\n",
       "<style scoped>\n",
       "    .dataframe tbody tr th:only-of-type {\n",
       "        vertical-align: middle;\n",
       "    }\n",
       "\n",
       "    .dataframe tbody tr th {\n",
       "        vertical-align: top;\n",
       "    }\n",
       "\n",
       "    .dataframe thead th {\n",
       "        text-align: right;\n",
       "    }\n",
       "</style>\n",
       "<table border=\"1\" class=\"dataframe\">\n",
       "  <thead>\n",
       "    <tr style=\"text-align: right;\">\n",
       "      <th></th>\n",
       "      <th>Unnamed: 0</th>\n",
       "      <th>Flow ID</th>\n",
       "      <th>Source IP</th>\n",
       "      <th>Source Port</th>\n",
       "      <th>Destination IP</th>\n",
       "      <th>Destination Port</th>\n",
       "      <th>Protocol</th>\n",
       "      <th>Timestamp</th>\n",
       "      <th>Flow Duration</th>\n",
       "      <th>Total Fwd Packets</th>\n",
       "      <th>...</th>\n",
       "      <th>min_seg_size_forward</th>\n",
       "      <th>Active Mean</th>\n",
       "      <th>Active Std</th>\n",
       "      <th>Active Max</th>\n",
       "      <th>Active Min</th>\n",
       "      <th>Idle Mean</th>\n",
       "      <th>Idle Std</th>\n",
       "      <th>Idle Max</th>\n",
       "      <th>Idle Min</th>\n",
       "      <th>Class</th>\n",
       "    </tr>\n",
       "  </thead>\n",
       "  <tbody>\n",
       "    <tr>\n",
       "      <th>0</th>\n",
       "      <td>0</td>\n",
       "      <td>10.42.0.211-52.6.25.230-34451-443-6</td>\n",
       "      <td>10.42.0.211</td>\n",
       "      <td>34451.0</td>\n",
       "      <td>52.6.25.230</td>\n",
       "      <td>443.0</td>\n",
       "      <td>6.0</td>\n",
       "      <td>04/08/2017 05:12:36</td>\n",
       "      <td>12140931.0</td>\n",
       "      <td>9.0</td>\n",
       "      <td>...</td>\n",
       "      <td>32.0</td>\n",
       "      <td>0.0</td>\n",
       "      <td>0.0</td>\n",
       "      <td>0.0</td>\n",
       "      <td>0.0</td>\n",
       "      <td>0.0</td>\n",
       "      <td>0.0</td>\n",
       "      <td>0.0</td>\n",
       "      <td>0.0</td>\n",
       "      <td>Benign</td>\n",
       "    </tr>\n",
       "    <tr>\n",
       "      <th>1</th>\n",
       "      <td>1</td>\n",
       "      <td>172.217.3.99-10.42.0.151-443-53892-6</td>\n",
       "      <td>10.42.0.151</td>\n",
       "      <td>53892.0</td>\n",
       "      <td>172.217.3.99</td>\n",
       "      <td>443.0</td>\n",
       "      <td>6.0</td>\n",
       "      <td>04/08/2017 07:55:51</td>\n",
       "      <td>418882.0</td>\n",
       "      <td>102.0</td>\n",
       "      <td>...</td>\n",
       "      <td>32.0</td>\n",
       "      <td>0.0</td>\n",
       "      <td>0.0</td>\n",
       "      <td>0.0</td>\n",
       "      <td>0.0</td>\n",
       "      <td>0.0</td>\n",
       "      <td>0.0</td>\n",
       "      <td>0.0</td>\n",
       "      <td>0.0</td>\n",
       "      <td>Benign</td>\n",
       "    </tr>\n",
       "    <tr>\n",
       "      <th>2</th>\n",
       "      <td>2</td>\n",
       "      <td>172.217.3.98-10.42.0.151-443-50750-6</td>\n",
       "      <td>172.217.3.98</td>\n",
       "      <td>443.0</td>\n",
       "      <td>10.42.0.151</td>\n",
       "      <td>50750.0</td>\n",
       "      <td>6.0</td>\n",
       "      <td>04/08/2017 08:48:19</td>\n",
       "      <td>45.0</td>\n",
       "      <td>2.0</td>\n",
       "      <td>...</td>\n",
       "      <td>32.0</td>\n",
       "      <td>0.0</td>\n",
       "      <td>0.0</td>\n",
       "      <td>0.0</td>\n",
       "      <td>0.0</td>\n",
       "      <td>0.0</td>\n",
       "      <td>0.0</td>\n",
       "      <td>0.0</td>\n",
       "      <td>0.0</td>\n",
       "      <td>Benign</td>\n",
       "    </tr>\n",
       "    <tr>\n",
       "      <th>3</th>\n",
       "      <td>3</td>\n",
       "      <td>10.42.0.211-10.42.0.1-23025-53-17</td>\n",
       "      <td>10.42.0.211</td>\n",
       "      <td>23025.0</td>\n",
       "      <td>10.42.0.1</td>\n",
       "      <td>53.0</td>\n",
       "      <td>17.0</td>\n",
       "      <td>04/08/2017 05:54:10</td>\n",
       "      <td>541699.0</td>\n",
       "      <td>1.0</td>\n",
       "      <td>...</td>\n",
       "      <td>32.0</td>\n",
       "      <td>0.0</td>\n",
       "      <td>0.0</td>\n",
       "      <td>0.0</td>\n",
       "      <td>0.0</td>\n",
       "      <td>0.0</td>\n",
       "      <td>0.0</td>\n",
       "      <td>0.0</td>\n",
       "      <td>0.0</td>\n",
       "      <td>Benign</td>\n",
       "    </tr>\n",
       "    <tr>\n",
       "      <th>4</th>\n",
       "      <td>4</td>\n",
       "      <td>10.42.0.211-123.129.244.226-52602-443-6</td>\n",
       "      <td>10.42.0.211</td>\n",
       "      <td>52602.0</td>\n",
       "      <td>123.129.244.226</td>\n",
       "      <td>443.0</td>\n",
       "      <td>6.0</td>\n",
       "      <td>04/08/2017 08:44:25</td>\n",
       "      <td>7310795.0</td>\n",
       "      <td>3.0</td>\n",
       "      <td>...</td>\n",
       "      <td>20.0</td>\n",
       "      <td>0.0</td>\n",
       "      <td>0.0</td>\n",
       "      <td>0.0</td>\n",
       "      <td>0.0</td>\n",
       "      <td>0.0</td>\n",
       "      <td>0.0</td>\n",
       "      <td>0.0</td>\n",
       "      <td>0.0</td>\n",
       "      <td>Benign</td>\n",
       "    </tr>\n",
       "  </tbody>\n",
       "</table>\n",
       "<p>5 rows × 86 columns</p>\n",
       "</div>"
      ],
      "text/plain": [
       "   Unnamed: 0                                  Flow ID     Source IP  \\\n",
       "0           0      10.42.0.211-52.6.25.230-34451-443-6   10.42.0.211   \n",
       "1           1     172.217.3.99-10.42.0.151-443-53892-6   10.42.0.151   \n",
       "2           2     172.217.3.98-10.42.0.151-443-50750-6  172.217.3.98   \n",
       "3           3        10.42.0.211-10.42.0.1-23025-53-17   10.42.0.211   \n",
       "4           4  10.42.0.211-123.129.244.226-52602-443-6   10.42.0.211   \n",
       "\n",
       "    Source Port   Destination IP   Destination Port   Protocol  \\\n",
       "0       34451.0      52.6.25.230              443.0        6.0   \n",
       "1       53892.0     172.217.3.99              443.0        6.0   \n",
       "2         443.0      10.42.0.151            50750.0        6.0   \n",
       "3       23025.0        10.42.0.1               53.0       17.0   \n",
       "4       52602.0  123.129.244.226              443.0        6.0   \n",
       "\n",
       "             Timestamp   Flow Duration   Total Fwd Packets  ...  \\\n",
       "0  04/08/2017 05:12:36      12140931.0                 9.0  ...   \n",
       "1  04/08/2017 07:55:51        418882.0               102.0  ...   \n",
       "2  04/08/2017 08:48:19            45.0                 2.0  ...   \n",
       "3  04/08/2017 05:54:10        541699.0                 1.0  ...   \n",
       "4  04/08/2017 08:44:25       7310795.0                 3.0  ...   \n",
       "\n",
       "    min_seg_size_forward  Active Mean   Active Std   Active Max   Active Min  \\\n",
       "0                   32.0          0.0          0.0          0.0          0.0   \n",
       "1                   32.0          0.0          0.0          0.0          0.0   \n",
       "2                   32.0          0.0          0.0          0.0          0.0   \n",
       "3                   32.0          0.0          0.0          0.0          0.0   \n",
       "4                   20.0          0.0          0.0          0.0          0.0   \n",
       "\n",
       "   Idle Mean   Idle Std   Idle Max   Idle Min   Class  \n",
       "0        0.0        0.0        0.0        0.0  Benign  \n",
       "1        0.0        0.0        0.0        0.0  Benign  \n",
       "2        0.0        0.0        0.0        0.0  Benign  \n",
       "3        0.0        0.0        0.0        0.0  Benign  \n",
       "4        0.0        0.0        0.0        0.0  Benign  \n",
       "\n",
       "[5 rows x 86 columns]"
      ]
     },
     "execution_count": 5,
     "metadata": {},
     "output_type": "execute_result"
    }
   ],
   "source": [
    "df_dk=pd.read_csv('../input/keylogger-detection/Keylogger_Detection.csv', low_memory=False)\n",
    "df_dk.head(5)"
   ]
  },
  {
   "cell_type": "code",
   "execution_count": 6,
   "metadata": {
    "execution": {
     "iopub.execute_input": "2023-02-19T19:45:49.322912Z",
     "iopub.status.busy": "2023-02-19T19:45:49.322600Z",
     "iopub.status.idle": "2023-02-19T19:45:49.328317Z",
     "shell.execute_reply": "2023-02-19T19:45:49.327503Z",
     "shell.execute_reply.started": "2023-02-19T19:45:49.322880Z"
    }
   },
   "outputs": [],
   "source": [
    "col_list = [\"sport\",\"dport\", \n",
    "            \"pkts\",\"bytes\", \n",
    "            \"state\",\"dur\", \n",
    "            \"mean\",\"stddev\", \n",
    "            \"sum\",\"min\", \n",
    "            \"max\",\"spkts\", \n",
    "            \"dpkts\",\"sbytes\", \n",
    "            \"dbytes\",\"rate\", \n",
    "            \"srate\",\"drate\",\n",
    "            \"attack\"\n",
    "           ]"
   ]
  },
  {
   "cell_type": "code",
   "execution_count": 7,
   "metadata": {
    "execution": {
     "iopub.execute_input": "2023-02-19T19:45:53.213284Z",
     "iopub.status.busy": "2023-02-19T19:45:53.212901Z",
     "iopub.status.idle": "2023-02-19T19:47:28.776265Z",
     "shell.execute_reply": "2023-02-19T19:47:28.774851Z",
     "shell.execute_reply.started": "2023-02-19T19:45:53.213244Z"
    }
   },
   "outputs": [],
   "source": [
    "df_num=pd.read_csv('../input/biotddos/ddos/DDoS_TCP.csv',sep=';',usecols=col_list)#nrows=50000,"
   ]
  },
  {
   "cell_type": "code",
   "execution_count": 8,
   "metadata": {
    "execution": {
     "iopub.execute_input": "2023-02-19T19:47:45.903799Z",
     "iopub.status.busy": "2023-02-19T19:47:45.900564Z",
     "iopub.status.idle": "2023-02-19T19:47:50.530547Z",
     "shell.execute_reply": "2023-02-19T19:47:50.529117Z",
     "shell.execute_reply.started": "2023-02-19T19:47:45.903667Z"
    }
   },
   "outputs": [
    {
     "name": "stderr",
     "output_type": "stream",
     "text": [
      "/opt/conda/lib/python3.7/site-packages/sklearn/utils/validation.py:72: DataConversionWarning: A column-vector y was passed when a 1d array was expected. Please change the shape of y to (n_samples, ), for example using ravel().\n",
      "  return f(**kwargs)\n"
     ]
    }
   ],
   "source": [
    "from sklearn.preprocessing import LabelEncoder\n",
    "from sklearn import preprocessing, metrics\n",
    "cat_features = ['state']\n",
    "encoder = LabelEncoder()\n",
    "label_encoder = preprocessing.LabelEncoder()\n",
    "for feature in cat_features:\n",
    "    encoded = label_encoder.fit_transform(df_num[cat_features])\n",
    "    df_num['state'] = encoded"
   ]
  },
  {
   "cell_type": "code",
   "execution_count": 9,
   "metadata": {
    "execution": {
     "iopub.execute_input": "2023-02-19T19:48:17.214579Z",
     "iopub.status.busy": "2023-02-19T19:48:17.213047Z",
     "iopub.status.idle": "2023-02-19T19:48:17.223282Z",
     "shell.execute_reply": "2023-02-19T19:48:17.222302Z",
     "shell.execute_reply.started": "2023-02-19T19:48:17.214500Z"
    }
   },
   "outputs": [
    {
     "data": {
      "text/plain": [
       "19548235"
      ]
     },
     "execution_count": 9,
     "metadata": {},
     "output_type": "execute_result"
    }
   ],
   "source": [
    "len(df_num)"
   ]
  },
  {
   "cell_type": "markdown",
   "metadata": {
    "papermill": {
     "duration": 0.022476,
     "end_time": "2021-11-29T18:41:13.955318",
     "exception": false,
     "start_time": "2021-11-29T18:41:13.932842",
     "status": "completed"
    },
    "tags": []
   },
   "source": [
    "# Data Cleaning"
   ]
  },
  {
   "cell_type": "code",
   "execution_count": 10,
   "metadata": {
    "execution": {
     "iopub.execute_input": "2023-02-19T19:48:20.637199Z",
     "iopub.status.busy": "2023-02-19T19:48:20.635827Z",
     "iopub.status.idle": "2023-02-19T19:48:20.650264Z",
     "shell.execute_reply": "2023-02-19T19:48:20.648959Z",
     "shell.execute_reply.started": "2023-02-19T19:48:20.637132Z"
    },
    "papermill": {
     "duration": 0.034082,
     "end_time": "2021-11-29T18:41:14.012227",
     "exception": false,
     "start_time": "2021-11-29T18:41:13.978145",
     "status": "completed"
    },
    "tags": []
   },
   "outputs": [
    {
     "data": {
      "text/plain": [
       "sport     float64\n",
       "dport     float64\n",
       "pkts        int64\n",
       "bytes       int64\n",
       "state       int64\n",
       "dur       float64\n",
       "mean      float64\n",
       "stddev    float64\n",
       "sum       float64\n",
       "min       float64\n",
       "max       float64\n",
       "spkts       int64\n",
       "dpkts       int64\n",
       "sbytes      int64\n",
       "dbytes      int64\n",
       "rate      float64\n",
       "srate     float64\n",
       "drate     float64\n",
       "attack      int64\n",
       "dtype: object"
      ]
     },
     "execution_count": 10,
     "metadata": {},
     "output_type": "execute_result"
    }
   ],
   "source": [
    "df_num.dtypes"
   ]
  },
  {
   "cell_type": "markdown",
   "metadata": {
    "papermill": {
     "duration": 0.02423,
     "end_time": "2021-11-29T18:41:14.591278",
     "exception": false,
     "start_time": "2021-11-29T18:41:14.567048",
     "status": "completed"
    },
    "tags": []
   },
   "source": [
    "### Removing nan values"
   ]
  },
  {
   "cell_type": "code",
   "execution_count": 11,
   "metadata": {
    "execution": {
     "iopub.execute_input": "2023-02-19T19:48:23.736288Z",
     "iopub.status.busy": "2023-02-19T19:48:23.735845Z",
     "iopub.status.idle": "2023-02-19T19:48:28.928946Z",
     "shell.execute_reply": "2023-02-19T19:48:28.927791Z",
     "shell.execute_reply.started": "2023-02-19T19:48:23.736238Z"
    },
    "papermill": {
     "duration": 0.448847,
     "end_time": "2021-11-29T18:41:15.063824",
     "exception": false,
     "start_time": "2021-11-29T18:41:14.614977",
     "status": "completed"
    },
    "tags": []
   },
   "outputs": [
    {
     "name": "stdout",
     "output_type": "stream",
     "text": [
      "1022\n",
      "0\n"
     ]
    }
   ],
   "source": [
    "print(df_num.isna().sum().sum())\n",
    "df_num=df_num.dropna()\n",
    "print(df_num.isna().sum().sum())"
   ]
  },
  {
   "cell_type": "code",
   "execution_count": 12,
   "metadata": {
    "execution": {
     "iopub.execute_input": "2023-02-19T19:48:31.332978Z",
     "iopub.status.busy": "2023-02-19T19:48:31.332229Z",
     "iopub.status.idle": "2023-02-19T19:48:32.534549Z",
     "shell.execute_reply": "2023-02-19T19:48:32.533448Z",
     "shell.execute_reply.started": "2023-02-19T19:48:31.332922Z"
    },
    "papermill": {
     "duration": 0.376234,
     "end_time": "2021-11-29T18:41:15.464277",
     "exception": false,
     "start_time": "2021-11-29T18:41:15.088043",
     "status": "completed"
    },
    "tags": []
   },
   "outputs": [
    {
     "data": {
      "text/html": [
       "<div>\n",
       "<style scoped>\n",
       "    .dataframe tbody tr th:only-of-type {\n",
       "        vertical-align: middle;\n",
       "    }\n",
       "\n",
       "    .dataframe tbody tr th {\n",
       "        vertical-align: top;\n",
       "    }\n",
       "\n",
       "    .dataframe thead th {\n",
       "        text-align: right;\n",
       "    }\n",
       "</style>\n",
       "<table border=\"1\" class=\"dataframe\">\n",
       "  <thead>\n",
       "    <tr style=\"text-align: right;\">\n",
       "      <th></th>\n",
       "      <th>sport</th>\n",
       "      <th>dport</th>\n",
       "      <th>pkts</th>\n",
       "      <th>bytes</th>\n",
       "      <th>state</th>\n",
       "      <th>dur</th>\n",
       "      <th>mean</th>\n",
       "      <th>stddev</th>\n",
       "      <th>sum</th>\n",
       "      <th>min</th>\n",
       "      <th>max</th>\n",
       "      <th>spkts</th>\n",
       "      <th>dpkts</th>\n",
       "      <th>sbytes</th>\n",
       "      <th>dbytes</th>\n",
       "      <th>rate</th>\n",
       "      <th>srate</th>\n",
       "      <th>drate</th>\n",
       "      <th>attack</th>\n",
       "    </tr>\n",
       "  </thead>\n",
       "  <tbody>\n",
       "    <tr>\n",
       "      <th>1063582</th>\n",
       "      <td>26425.0</td>\n",
       "      <td>80.0</td>\n",
       "      <td>10</td>\n",
       "      <td>1164</td>\n",
       "      <td>5</td>\n",
       "      <td>23.538359</td>\n",
       "      <td>1.339892</td>\n",
       "      <td>1.641164</td>\n",
       "      <td>6.699461</td>\n",
       "      <td>0.0</td>\n",
       "      <td>3.383407</td>\n",
       "      <td>8</td>\n",
       "      <td>2</td>\n",
       "      <td>1044</td>\n",
       "      <td>120</td>\n",
       "      <td>0.382355</td>\n",
       "      <td>0.297387</td>\n",
       "      <td>0.118097</td>\n",
       "      <td>1</td>\n",
       "    </tr>\n",
       "    <tr>\n",
       "      <th>19360339</th>\n",
       "      <td>54442.0</td>\n",
       "      <td>80.0</td>\n",
       "      <td>2</td>\n",
       "      <td>308</td>\n",
       "      <td>5</td>\n",
       "      <td>6.007879</td>\n",
       "      <td>0.000000</td>\n",
       "      <td>0.000000</td>\n",
       "      <td>0.000000</td>\n",
       "      <td>0.0</td>\n",
       "      <td>0.000000</td>\n",
       "      <td>2</td>\n",
       "      <td>0</td>\n",
       "      <td>308</td>\n",
       "      <td>0</td>\n",
       "      <td>0.166448</td>\n",
       "      <td>0.166448</td>\n",
       "      <td>0.000000</td>\n",
       "      <td>1</td>\n",
       "    </tr>\n",
       "    <tr>\n",
       "      <th>8580640</th>\n",
       "      <td>40212.0</td>\n",
       "      <td>80.0</td>\n",
       "      <td>4</td>\n",
       "      <td>616</td>\n",
       "      <td>5</td>\n",
       "      <td>16.765945</td>\n",
       "      <td>0.000000</td>\n",
       "      <td>0.000000</td>\n",
       "      <td>0.000000</td>\n",
       "      <td>0.0</td>\n",
       "      <td>0.000000</td>\n",
       "      <td>4</td>\n",
       "      <td>0</td>\n",
       "      <td>616</td>\n",
       "      <td>0</td>\n",
       "      <td>0.178934</td>\n",
       "      <td>0.178934</td>\n",
       "      <td>0.000000</td>\n",
       "      <td>1</td>\n",
       "    </tr>\n",
       "    <tr>\n",
       "      <th>3819533</th>\n",
       "      <td>61840.0</td>\n",
       "      <td>80.0</td>\n",
       "      <td>7</td>\n",
       "      <td>890</td>\n",
       "      <td>7</td>\n",
       "      <td>23.448048</td>\n",
       "      <td>0.908004</td>\n",
       "      <td>1.816008</td>\n",
       "      <td>4.540019</td>\n",
       "      <td>0.0</td>\n",
       "      <td>4.540019</td>\n",
       "      <td>6</td>\n",
       "      <td>1</td>\n",
       "      <td>830</td>\n",
       "      <td>60</td>\n",
       "      <td>0.255885</td>\n",
       "      <td>0.213237</td>\n",
       "      <td>0.000000</td>\n",
       "      <td>1</td>\n",
       "    </tr>\n",
       "    <tr>\n",
       "      <th>15703854</th>\n",
       "      <td>24283.0</td>\n",
       "      <td>80.0</td>\n",
       "      <td>1</td>\n",
       "      <td>154</td>\n",
       "      <td>5</td>\n",
       "      <td>0.000000</td>\n",
       "      <td>0.000000</td>\n",
       "      <td>0.000000</td>\n",
       "      <td>0.000000</td>\n",
       "      <td>0.0</td>\n",
       "      <td>0.000000</td>\n",
       "      <td>1</td>\n",
       "      <td>0</td>\n",
       "      <td>154</td>\n",
       "      <td>0</td>\n",
       "      <td>0.000000</td>\n",
       "      <td>0.000000</td>\n",
       "      <td>0.000000</td>\n",
       "      <td>1</td>\n",
       "    </tr>\n",
       "  </tbody>\n",
       "</table>\n",
       "</div>"
      ],
      "text/plain": [
       "            sport  dport  pkts  bytes  state        dur      mean    stddev  \\\n",
       "1063582   26425.0   80.0    10   1164      5  23.538359  1.339892  1.641164   \n",
       "19360339  54442.0   80.0     2    308      5   6.007879  0.000000  0.000000   \n",
       "8580640   40212.0   80.0     4    616      5  16.765945  0.000000  0.000000   \n",
       "3819533   61840.0   80.0     7    890      7  23.448048  0.908004  1.816008   \n",
       "15703854  24283.0   80.0     1    154      5   0.000000  0.000000  0.000000   \n",
       "\n",
       "               sum  min       max  spkts  dpkts  sbytes  dbytes      rate  \\\n",
       "1063582   6.699461  0.0  3.383407      8      2    1044     120  0.382355   \n",
       "19360339  0.000000  0.0  0.000000      2      0     308       0  0.166448   \n",
       "8580640   0.000000  0.0  0.000000      4      0     616       0  0.178934   \n",
       "3819533   4.540019  0.0  4.540019      6      1     830      60  0.255885   \n",
       "15703854  0.000000  0.0  0.000000      1      0     154       0  0.000000   \n",
       "\n",
       "             srate     drate  attack  \n",
       "1063582   0.297387  0.118097       1  \n",
       "19360339  0.166448  0.000000       1  \n",
       "8580640   0.178934  0.000000       1  \n",
       "3819533   0.213237  0.000000       1  \n",
       "15703854  0.000000  0.000000       1  "
      ]
     },
     "execution_count": 12,
     "metadata": {},
     "output_type": "execute_result"
    }
   ],
   "source": [
    "df_num.sample(5)"
   ]
  },
  {
   "cell_type": "markdown",
   "metadata": {
    "papermill": {
     "duration": 0.024678,
     "end_time": "2021-11-29T18:41:15.513843",
     "exception": false,
     "start_time": "2021-11-29T18:41:15.489165",
     "status": "completed"
    },
    "tags": []
   },
   "source": [
    "# Distribution of Classes"
   ]
  },
  {
   "cell_type": "code",
   "execution_count": 13,
   "metadata": {
    "execution": {
     "iopub.execute_input": "2023-02-19T19:48:35.300043Z",
     "iopub.status.busy": "2023-02-19T19:48:35.299314Z",
     "iopub.status.idle": "2023-02-19T19:48:35.689695Z",
     "shell.execute_reply": "2023-02-19T19:48:35.688346Z",
     "shell.execute_reply.started": "2023-02-19T19:48:35.299974Z"
    },
    "papermill": {
     "duration": 0.089589,
     "end_time": "2021-11-29T18:41:15.628262",
     "exception": false,
     "start_time": "2021-11-29T18:41:15.538673",
     "status": "completed"
    },
    "tags": []
   },
   "outputs": [
    {
     "data": {
      "text/plain": [
       "attack\n",
       "0         620\n",
       "1    19547104\n",
       "dtype: int64"
      ]
     },
     "execution_count": 13,
     "metadata": {},
     "output_type": "execute_result"
    }
   ],
   "source": [
    "df_num.groupby('attack').size()"
   ]
  },
  {
   "cell_type": "markdown",
   "metadata": {
    "papermill": {
     "duration": 0.025159,
     "end_time": "2021-11-29T18:41:15.678927",
     "exception": false,
     "start_time": "2021-11-29T18:41:15.653768",
     "status": "completed"
    },
    "tags": []
   },
   "source": [
    "# Removal of Unecessary Features"
   ]
  },
  {
   "cell_type": "code",
   "execution_count": 14,
   "metadata": {
    "execution": {
     "iopub.execute_input": "2023-02-19T19:48:39.090945Z",
     "iopub.status.busy": "2023-02-19T19:48:39.090375Z",
     "iopub.status.idle": "2023-02-19T19:48:41.050084Z",
     "shell.execute_reply": "2023-02-19T19:48:41.048919Z",
     "shell.execute_reply.started": "2023-02-19T19:48:39.090905Z"
    },
    "papermill": {
     "duration": 1.383705,
     "end_time": "2021-11-29T18:41:17.088171",
     "exception": false,
     "start_time": "2021-11-29T18:41:15.704466",
     "status": "completed"
    },
    "tags": []
   },
   "outputs": [],
   "source": [
    "for col in (df_num.iloc[:,:-1].columns):\n",
    "    if(df_num[col].min()==df_num[col].max()):\n",
    "            df_num.drop(col, axis=1, inplace=True)"
   ]
  },
  {
   "cell_type": "markdown",
   "metadata": {
    "papermill": {
     "duration": 0.024896,
     "end_time": "2021-11-29T18:41:17.138764",
     "exception": false,
     "start_time": "2021-11-29T18:41:17.113868",
     "status": "completed"
    },
    "tags": []
   },
   "source": [
    "# Feature Scaling"
   ]
  },
  {
   "cell_type": "code",
   "execution_count": 15,
   "metadata": {
    "execution": {
     "iopub.execute_input": "2023-02-19T19:48:49.185419Z",
     "iopub.status.busy": "2023-02-19T19:48:49.185011Z",
     "iopub.status.idle": "2023-02-19T19:48:55.150596Z",
     "shell.execute_reply": "2023-02-19T19:48:55.149793Z",
     "shell.execute_reply.started": "2023-02-19T19:48:49.185379Z"
    },
    "papermill": {
     "duration": 0.498097,
     "end_time": "2021-11-29T18:41:17.662524",
     "exception": false,
     "start_time": "2021-11-29T18:41:17.164427",
     "status": "completed"
    },
    "tags": []
   },
   "outputs": [
    {
     "data": {
      "text/html": [
       "<div>\n",
       "<style scoped>\n",
       "    .dataframe tbody tr th:only-of-type {\n",
       "        vertical-align: middle;\n",
       "    }\n",
       "\n",
       "    .dataframe tbody tr th {\n",
       "        vertical-align: top;\n",
       "    }\n",
       "\n",
       "    .dataframe thead th {\n",
       "        text-align: right;\n",
       "    }\n",
       "</style>\n",
       "<table border=\"1\" class=\"dataframe\">\n",
       "  <thead>\n",
       "    <tr style=\"text-align: right;\">\n",
       "      <th></th>\n",
       "      <th>sport</th>\n",
       "      <th>dport</th>\n",
       "      <th>pkts</th>\n",
       "      <th>bytes</th>\n",
       "      <th>state</th>\n",
       "      <th>dur</th>\n",
       "      <th>mean</th>\n",
       "      <th>stddev</th>\n",
       "      <th>sum</th>\n",
       "      <th>min</th>\n",
       "      <th>max</th>\n",
       "      <th>spkts</th>\n",
       "      <th>dpkts</th>\n",
       "      <th>sbytes</th>\n",
       "      <th>dbytes</th>\n",
       "      <th>rate</th>\n",
       "      <th>srate</th>\n",
       "      <th>drate</th>\n",
       "      <th>attack</th>\n",
       "    </tr>\n",
       "  </thead>\n",
       "  <tbody>\n",
       "    <tr>\n",
       "      <th>0</th>\n",
       "      <td>-1.548194</td>\n",
       "      <td>-0.037286</td>\n",
       "      <td>675.736035</td>\n",
       "      <td>703.160651</td>\n",
       "      <td>-5.246894</td>\n",
       "      <td>3.957576</td>\n",
       "      <td>2.468846</td>\n",
       "      <td>-0.842947</td>\n",
       "      <td>20.190914</td>\n",
       "      <td>3.146913</td>\n",
       "      <td>1.296183</td>\n",
       "      <td>505.592497</td>\n",
       "      <td>786.258320</td>\n",
       "      <td>540.080391</td>\n",
       "      <td>805.656119</td>\n",
       "      <td>58.227191</td>\n",
       "      <td>119.466340</td>\n",
       "      <td>195.626713</td>\n",
       "      <td>0</td>\n",
       "    </tr>\n",
       "    <tr>\n",
       "      <th>1</th>\n",
       "      <td>-1.303736</td>\n",
       "      <td>-0.037286</td>\n",
       "      <td>676.000054</td>\n",
       "      <td>703.530979</td>\n",
       "      <td>-5.246894</td>\n",
       "      <td>3.957581</td>\n",
       "      <td>2.468840</td>\n",
       "      <td>-0.842925</td>\n",
       "      <td>20.190879</td>\n",
       "      <td>3.146903</td>\n",
       "      <td>1.296216</td>\n",
       "      <td>505.395001</td>\n",
       "      <td>787.180137</td>\n",
       "      <td>570.688614</td>\n",
       "      <td>762.784607</td>\n",
       "      <td>58.249946</td>\n",
       "      <td>119.419450</td>\n",
       "      <td>195.855940</td>\n",
       "      <td>0</td>\n",
       "    </tr>\n",
       "    <tr>\n",
       "      <th>2</th>\n",
       "      <td>-1.726673</td>\n",
       "      <td>-0.037286</td>\n",
       "      <td>337.396105</td>\n",
       "      <td>346.302181</td>\n",
       "      <td>-2.882854</td>\n",
       "      <td>3.957337</td>\n",
       "      <td>2.470041</td>\n",
       "      <td>-0.844178</td>\n",
       "      <td>20.198370</td>\n",
       "      <td>3.158983</td>\n",
       "      <td>1.296184</td>\n",
       "      <td>504.802514</td>\n",
       "      <td>-0.051547</td>\n",
       "      <td>543.889267</td>\n",
       "      <td>-0.005093</td>\n",
       "      <td>28.999581</td>\n",
       "      <td>119.284684</td>\n",
       "      <td>-0.021749</td>\n",
       "      <td>0</td>\n",
       "    </tr>\n",
       "    <tr>\n",
       "      <th>3</th>\n",
       "      <td>-1.726673</td>\n",
       "      <td>-0.037286</td>\n",
       "      <td>337.462110</td>\n",
       "      <td>337.636069</td>\n",
       "      <td>-5.246894</td>\n",
       "      <td>3.957342</td>\n",
       "      <td>2.470045</td>\n",
       "      <td>-0.846095</td>\n",
       "      <td>20.198394</td>\n",
       "      <td>3.158984</td>\n",
       "      <td>1.296184</td>\n",
       "      <td>504.901262</td>\n",
       "      <td>-0.051547</td>\n",
       "      <td>530.278685</td>\n",
       "      <td>-0.005093</td>\n",
       "      <td>29.005256</td>\n",
       "      <td>119.307963</td>\n",
       "      <td>-0.021749</td>\n",
       "      <td>0</td>\n",
       "    </tr>\n",
       "    <tr>\n",
       "      <th>4</th>\n",
       "      <td>-1.711606</td>\n",
       "      <td>0.261762</td>\n",
       "      <td>181.427074</td>\n",
       "      <td>11.601481</td>\n",
       "      <td>-2.882854</td>\n",
       "      <td>3.969784</td>\n",
       "      <td>2.445479</td>\n",
       "      <td>-0.796511</td>\n",
       "      <td>20.045182</td>\n",
       "      <td>3.044447</td>\n",
       "      <td>1.294951</td>\n",
       "      <td>271.461374</td>\n",
       "      <td>-0.051547</td>\n",
       "      <td>18.224300</td>\n",
       "      <td>-0.005093</td>\n",
       "      <td>15.487984</td>\n",
       "      <td>63.869466</td>\n",
       "      <td>-0.021749</td>\n",
       "      <td>0</td>\n",
       "    </tr>\n",
       "  </tbody>\n",
       "</table>\n",
       "</div>"
      ],
      "text/plain": [
       "      sport     dport        pkts       bytes     state       dur      mean  \\\n",
       "0 -1.548194 -0.037286  675.736035  703.160651 -5.246894  3.957576  2.468846   \n",
       "1 -1.303736 -0.037286  676.000054  703.530979 -5.246894  3.957581  2.468840   \n",
       "2 -1.726673 -0.037286  337.396105  346.302181 -2.882854  3.957337  2.470041   \n",
       "3 -1.726673 -0.037286  337.462110  337.636069 -5.246894  3.957342  2.470045   \n",
       "4 -1.711606  0.261762  181.427074   11.601481 -2.882854  3.969784  2.445479   \n",
       "\n",
       "     stddev        sum       min       max       spkts       dpkts  \\\n",
       "0 -0.842947  20.190914  3.146913  1.296183  505.592497  786.258320   \n",
       "1 -0.842925  20.190879  3.146903  1.296216  505.395001  787.180137   \n",
       "2 -0.844178  20.198370  3.158983  1.296184  504.802514   -0.051547   \n",
       "3 -0.846095  20.198394  3.158984  1.296184  504.901262   -0.051547   \n",
       "4 -0.796511  20.045182  3.044447  1.294951  271.461374   -0.051547   \n",
       "\n",
       "       sbytes      dbytes       rate       srate       drate  attack  \n",
       "0  540.080391  805.656119  58.227191  119.466340  195.626713       0  \n",
       "1  570.688614  762.784607  58.249946  119.419450  195.855940       0  \n",
       "2  543.889267   -0.005093  28.999581  119.284684   -0.021749       0  \n",
       "3  530.278685   -0.005093  29.005256  119.307963   -0.021749       0  \n",
       "4   18.224300   -0.005093  15.487984   63.869466   -0.021749       0  "
      ]
     },
     "execution_count": 15,
     "metadata": {},
     "output_type": "execute_result"
    }
   ],
   "source": [
    "# Normalization OR Standardization\n",
    "def standardize(df,col):\n",
    "    df[col]= (df[col]-df[col].mean())/(df[col].std()) # Standardization\n",
    "    #df[col]= (df[col]-df[col].min())/(df[col].max()-df[col].min()) #Normalization\n",
    "\n",
    "for i in (df_num.iloc[:,:-1].columns):\n",
    "    standardize (df_num,i)\n",
    "\n",
    "df_num.head()"
   ]
  },
  {
   "cell_type": "code",
   "execution_count": 16,
   "metadata": {
    "execution": {
     "iopub.execute_input": "2023-02-19T19:49:03.013432Z",
     "iopub.status.busy": "2023-02-19T19:49:03.012909Z",
     "iopub.status.idle": "2023-02-19T19:49:03.018515Z",
     "shell.execute_reply": "2023-02-19T19:49:03.017553Z",
     "shell.execute_reply.started": "2023-02-19T19:49:03.013395Z"
    },
    "papermill": {
     "duration": 0.03376,
     "end_time": "2021-11-29T18:41:17.722652",
     "exception": false,
     "start_time": "2021-11-29T18:41:17.688892",
     "status": "completed"
    },
    "tags": []
   },
   "outputs": [],
   "source": [
    "target=['attack']\n",
    "features = [c for c in df_num.columns if c!=\"attack\"]"
   ]
  },
  {
   "cell_type": "markdown",
   "metadata": {
    "papermill": {
     "duration": 0.025944,
     "end_time": "2021-11-29T18:41:17.774994",
     "exception": false,
     "start_time": "2021-11-29T18:41:17.74905",
     "status": "completed"
    },
    "tags": []
   },
   "source": [
    "# Splitting of the DataSet for Training and Testing"
   ]
  },
  {
   "cell_type": "code",
   "execution_count": 17,
   "metadata": {
    "execution": {
     "iopub.execute_input": "2023-02-19T19:49:07.338849Z",
     "iopub.status.busy": "2023-02-19T19:49:07.338362Z",
     "iopub.status.idle": "2023-02-19T19:49:12.002272Z",
     "shell.execute_reply": "2023-02-19T19:49:12.000909Z",
     "shell.execute_reply.started": "2023-02-19T19:49:07.338806Z"
    },
    "papermill": {
     "duration": 0.231328,
     "end_time": "2021-11-29T18:41:18.033501",
     "exception": false,
     "start_time": "2021-11-29T18:41:17.802173",
     "status": "completed"
    },
    "tags": []
   },
   "outputs": [
    {
     "data": {
      "text/plain": [
       "((19547724, 18), (19547724, 1))"
      ]
     },
     "execution_count": 17,
     "metadata": {},
     "output_type": "execute_result"
    }
   ],
   "source": [
    "X = df_num[features].values # Features\n",
    "y = df_num[target].values # Target\n",
    "\n",
    "X=X.astype(np.float32)\n",
    "y=y.astype(np.float32)\n",
    "\n",
    "X.shape,y.shape,"
   ]
  },
  {
   "cell_type": "code",
   "execution_count": 18,
   "metadata": {
    "execution": {
     "iopub.execute_input": "2023-02-19T19:49:13.945605Z",
     "iopub.status.busy": "2023-02-19T19:49:13.945172Z",
     "iopub.status.idle": "2023-02-19T19:49:13.960902Z",
     "shell.execute_reply": "2023-02-19T19:49:13.959554Z",
     "shell.execute_reply.started": "2023-02-19T19:49:13.945566Z"
    }
   },
   "outputs": [],
   "source": [
    "del df_num"
   ]
  },
  {
   "cell_type": "code",
   "execution_count": 19,
   "metadata": {
    "execution": {
     "iopub.execute_input": "2023-02-19T19:49:15.060205Z",
     "iopub.status.busy": "2023-02-19T19:49:15.059826Z",
     "iopub.status.idle": "2023-02-19T19:49:15.434662Z",
     "shell.execute_reply": "2023-02-19T19:49:15.433682Z",
     "shell.execute_reply.started": "2023-02-19T19:49:15.060171Z"
    }
   },
   "outputs": [
    {
     "data": {
      "text/plain": [
       "180"
      ]
     },
     "execution_count": 19,
     "metadata": {},
     "output_type": "execute_result"
    }
   ],
   "source": [
    "gc.collect()"
   ]
  },
  {
   "cell_type": "code",
   "execution_count": 20,
   "metadata": {
    "execution": {
     "iopub.execute_input": "2023-02-19T19:49:16.680686Z",
     "iopub.status.busy": "2023-02-19T19:49:16.680287Z",
     "iopub.status.idle": "2023-02-19T19:49:23.242318Z",
     "shell.execute_reply": "2023-02-19T19:49:23.241036Z",
     "shell.execute_reply.started": "2023-02-19T19:49:16.680648Z"
    },
    "papermill": {
     "duration": 0.418461,
     "end_time": "2021-11-29T18:41:18.479491",
     "exception": false,
     "start_time": "2021-11-29T18:41:18.06103",
     "status": "completed"
    },
    "tags": []
   },
   "outputs": [],
   "source": [
    "from sklearn.model_selection import train_test_split\n",
    "X_train, X_test, y_train, y_test = train_test_split(X, y, test_size=0.2, random_state=12)"
   ]
  },
  {
   "cell_type": "code",
   "execution_count": 21,
   "metadata": {
    "execution": {
     "iopub.execute_input": "2023-02-19T19:49:29.511890Z",
     "iopub.status.busy": "2023-02-19T19:49:29.511500Z",
     "iopub.status.idle": "2023-02-19T19:49:29.522587Z",
     "shell.execute_reply": "2023-02-19T19:49:29.521103Z",
     "shell.execute_reply.started": "2023-02-19T19:49:29.511851Z"
    },
    "papermill": {
     "duration": 0.035307,
     "end_time": "2021-11-29T18:41:18.541879",
     "exception": false,
     "start_time": "2021-11-29T18:41:18.506572",
     "status": "completed"
    },
    "tags": []
   },
   "outputs": [
    {
     "data": {
      "text/plain": [
       "((15638179, 18), (3909545, 18), (15638179, 1), (3909545, 1))"
      ]
     },
     "execution_count": 21,
     "metadata": {},
     "output_type": "execute_result"
    }
   ],
   "source": [
    "X_train.shape,X_test.shape,y_train.shape,y_test.shape"
   ]
  },
  {
   "cell_type": "code",
   "execution_count": 22,
   "metadata": {
    "execution": {
     "iopub.execute_input": "2023-02-19T19:49:31.608880Z",
     "iopub.status.busy": "2023-02-19T19:49:31.608321Z",
     "iopub.status.idle": "2023-02-19T19:49:31.617927Z",
     "shell.execute_reply": "2023-02-19T19:49:31.616194Z",
     "shell.execute_reply.started": "2023-02-19T19:49:31.608818Z"
    },
    "papermill": {
     "duration": 0.037058,
     "end_time": "2021-11-29T18:41:18.606568",
     "exception": false,
     "start_time": "2021-11-29T18:41:18.56951",
     "status": "completed"
    },
    "tags": []
   },
   "outputs": [
    {
     "name": "stdout",
     "output_type": "stream",
     "text": [
      "(15638179, 18, 1)\n",
      "(3909545, 18, 1)\n"
     ]
    }
   ],
   "source": [
    "X_train_cnn = np.reshape(X_train, (X_train.shape[0], X_train.shape[1],1))\n",
    "X_test_cnn = np.reshape(X_test, (X_test.shape[0], X_test.shape[1],1))\n",
    "print(X_train_cnn.shape)\n",
    "print(X_test_cnn.shape)\n"
   ]
  },
  {
   "cell_type": "markdown",
   "metadata": {
    "papermill": {
     "duration": 0.027577,
     "end_time": "2021-11-29T18:41:18.661978",
     "exception": false,
     "start_time": "2021-11-29T18:41:18.634401",
     "status": "completed"
    },
    "tags": []
   },
   "source": [
    "# Building the CNN Model"
   ]
  },
  {
   "cell_type": "code",
   "execution_count": 23,
   "metadata": {
    "execution": {
     "iopub.execute_input": "2023-02-19T19:49:34.449686Z",
     "iopub.status.busy": "2023-02-19T19:49:34.449285Z",
     "iopub.status.idle": "2023-02-19T19:49:34.457977Z",
     "shell.execute_reply": "2023-02-19T19:49:34.456559Z",
     "shell.execute_reply.started": "2023-02-19T19:49:34.449648Z"
    },
    "papermill": {
     "duration": 0.037755,
     "end_time": "2021-11-29T18:41:18.727732",
     "exception": false,
     "start_time": "2021-11-29T18:41:18.689977",
     "status": "completed"
    },
    "tags": []
   },
   "outputs": [],
   "source": [
    "learning_rate=0.001\n",
    "batch_size=5000\n",
    "epochs = 15\n",
    "\n",
    "model_save = ModelCheckpoint('./DDoS_TCP.h5', \n",
    "                             save_best_only = True, \n",
    "                             save_weights_only = True,\n",
    "                             monitor = 'val_loss', \n",
    "                             mode = 'min', verbose = 1)\n",
    "early_stop = EarlyStopping(monitor = 'val_loss', min_delta = 0.0001, \n",
    "                           patience = 8, mode = 'min', verbose = 1,\n",
    "                           restore_best_weights = True)\n",
    "reduce_lr = ReduceLROnPlateau(monitor = 'val_loss', factor = 0.6, \n",
    "                              patience = 4, min_delta = 0.0001, \n",
    "                              mode = 'min', verbose = 1)"
   ]
  },
  {
   "cell_type": "code",
   "execution_count": 24,
   "metadata": {
    "execution": {
     "iopub.execute_input": "2023-02-19T19:49:37.594043Z",
     "iopub.status.busy": "2023-02-19T19:49:37.593645Z",
     "iopub.status.idle": "2023-02-19T19:49:37.601750Z",
     "shell.execute_reply": "2023-02-19T19:49:37.600423Z",
     "shell.execute_reply.started": "2023-02-19T19:49:37.594007Z"
    }
   },
   "outputs": [
    {
     "data": {
      "text/plain": [
       "18"
      ]
     },
     "execution_count": 24,
     "metadata": {},
     "output_type": "execute_result"
    }
   ],
   "source": [
    "X_test.shape[1]"
   ]
  },
  {
   "cell_type": "code",
   "execution_count": 25,
   "metadata": {
    "execution": {
     "iopub.execute_input": "2023-02-19T19:49:39.270381Z",
     "iopub.status.busy": "2023-02-19T19:49:39.269999Z",
     "iopub.status.idle": "2023-02-19T23:09:38.453077Z",
     "shell.execute_reply": "2023-02-19T23:09:38.451582Z",
     "shell.execute_reply.started": "2023-02-19T19:49:39.270345Z"
    }
   },
   "outputs": [
    {
     "name": "stderr",
     "output_type": "stream",
     "text": [
      "\n",
      "User settings:\n",
      "\n",
      "   KMP_AFFINITY=granularity=fine,verbose,compact,1,0\n",
      "   KMP_BLOCKTIME=0\n",
      "   KMP_DUPLICATE_LIB_OK=True\n",
      "   KMP_INIT_AT_FORK=FALSE\n",
      "   KMP_SETTINGS=1\n",
      "   KMP_WARNINGS=0\n",
      "\n",
      "Effective settings:\n",
      "\n",
      "   KMP_ABORT_DELAY=0\n",
      "   KMP_ADAPTIVE_LOCK_PROPS='1,1024'\n",
      "   KMP_ALIGN_ALLOC=64\n",
      "   KMP_ALL_THREADPRIVATE=128\n",
      "   KMP_ATOMIC_MODE=2\n",
      "   KMP_BLOCKTIME=0\n",
      "   KMP_CPUINFO_FILE: value is not defined\n",
      "   KMP_DETERMINISTIC_REDUCTION=false\n",
      "   KMP_DEVICE_THREAD_LIMIT=2147483647\n",
      "   KMP_DISP_NUM_BUFFERS=7\n",
      "   KMP_DUPLICATE_LIB_OK=true\n",
      "   KMP_ENABLE_TASK_THROTTLING=true\n",
      "   KMP_FORCE_REDUCTION: value is not defined\n",
      "   KMP_FOREIGN_THREADS_THREADPRIVATE=true\n",
      "   KMP_FORKJOIN_BARRIER='2,2'\n",
      "   KMP_FORKJOIN_BARRIER_PATTERN='hyper,hyper'\n",
      "   KMP_GTID_MODE=3\n",
      "   KMP_HANDLE_SIGNALS=false\n",
      "   KMP_HOT_TEAMS_MAX_LEVEL=1\n",
      "   KMP_HOT_TEAMS_MODE=0\n",
      "   KMP_INIT_AT_FORK=true\n",
      "   KMP_LIBRARY=throughput\n",
      "   KMP_LOCK_KIND=queuing\n",
      "   KMP_MALLOC_POOL_INCR=1M\n",
      "   KMP_NUM_LOCKS_IN_BLOCK=1\n",
      "   KMP_PLAIN_BARRIER='2,2'\n",
      "   KMP_PLAIN_BARRIER_PATTERN='hyper,hyper'\n",
      "   KMP_REDUCTION_BARRIER='1,1'\n",
      "   KMP_REDUCTION_BARRIER_PATTERN='hyper,hyper'\n",
      "   KMP_SCHEDULE='static,balanced;guided,iterative'\n",
      "   KMP_SETTINGS=true\n",
      "   KMP_SPIN_BACKOFF_PARAMS='4096,100'\n",
      "   KMP_STACKOFFSET=64\n",
      "   KMP_STACKPAD=0\n",
      "   KMP_STACKSIZE=8M\n",
      "   KMP_STORAGE_MAP=false\n",
      "   KMP_TASKING=2\n",
      "   KMP_TASKLOOP_MIN_TASKS=0\n",
      "   KMP_TASK_STEALING_CONSTRAINT=1\n",
      "   KMP_TEAMS_THREAD_LIMIT=4\n",
      "   KMP_TOPOLOGY_METHOD=all\n",
      "   KMP_USE_YIELD=1\n",
      "   KMP_VERSION=false\n",
      "   KMP_WARNINGS=false\n",
      "   OMP_AFFINITY_FORMAT='OMP: pid %P tid %i thread %n bound to OS proc set {%A}'\n",
      "   OMP_ALLOCATOR=omp_default_mem_alloc\n",
      "   OMP_CANCELLATION=false\n",
      "   OMP_DEFAULT_DEVICE=0\n",
      "   OMP_DISPLAY_AFFINITY=false\n",
      "   OMP_DISPLAY_ENV=false\n",
      "   OMP_DYNAMIC=false\n",
      "   OMP_MAX_ACTIVE_LEVELS=1\n",
      "   OMP_MAX_TASK_PRIORITY=0\n",
      "   OMP_NESTED: deprecated; max-active-levels-var=1\n",
      "   OMP_NUM_THREADS: value is not defined\n",
      "   OMP_PLACES: value is not defined\n",
      "   OMP_PROC_BIND='intel'\n",
      "   OMP_SCHEDULE='static'\n",
      "   OMP_STACKSIZE=8M\n",
      "   OMP_TARGET_OFFLOAD=DEFAULT\n",
      "   OMP_THREAD_LIMIT=2147483647\n",
      "   OMP_WAIT_POLICY=PASSIVE\n",
      "   KMP_AFFINITY='verbose,warnings,respect,granularity=fine,compact,1,0'\n",
      "\n",
      "2023-02-19 19:49:39.358328: I tensorflow/core/common_runtime/process_util.cc:146] Creating new thread pool with default inter op setting: 2. Tune using inter_op_parallelism_threads for best performance.\n",
      "2023-02-19 19:49:42.202897: I tensorflow/compiler/mlir/mlir_graph_optimization_pass.cc:185] None of the MLIR Optimization Passes are enabled (registered 2)\n"
     ]
    },
    {
     "name": "stdout",
     "output_type": "stream",
     "text": [
      "Epoch 1/15\n",
      "3127/3127 [==============================] - 1352s 431ms/step - loss: 0.0012 - auc: 0.9287 - val_loss: 3.9550e-05 - val_auc: 0.9440\n",
      "\n",
      "Epoch 00001: val_loss improved from inf to 0.00004, saving model to ./DDoS_TCP.h5\n",
      "Epoch 2/15\n",
      "3127/3127 [==============================] - 1341s 429ms/step - loss: 2.2187e-04 - auc: 0.9547 - val_loss: 7.7301e-05 - val_auc: 0.9142\n",
      "\n",
      "Epoch 00002: val_loss did not improve from 0.00004\n",
      "Epoch 3/15\n",
      "3127/3127 [==============================] - 1338s 428ms/step - loss: 3.5582e-04 - auc: 0.9403 - val_loss: 2.3776e-05 - val_auc: 0.9888\n",
      "\n",
      "Epoch 00003: val_loss improved from 0.00004 to 0.00002, saving model to ./DDoS_TCP.h5\n",
      "Epoch 4/15\n",
      "3127/3127 [==============================] - 1324s 423ms/step - loss: 7.2762e-05 - auc: 0.9506 - val_loss: 5.6495e-04 - val_auc: 0.9179\n",
      "\n",
      "Epoch 00004: val_loss did not improve from 0.00002\n",
      "Epoch 5/15\n",
      "3127/3127 [==============================] - 1324s 424ms/step - loss: 1.2895e-04 - auc: 0.9587 - val_loss: 3.0016e-05 - val_auc: 0.9664\n",
      "\n",
      "Epoch 00005: val_loss did not improve from 0.00002\n",
      "\n",
      "Epoch 00005: ReduceLROnPlateau reducing learning rate to 0.0006000000284984708.\n",
      "Epoch 6/15\n",
      "3127/3127 [==============================] - 1319s 422ms/step - loss: 1.7882e-04 - auc: 0.9712 - val_loss: 1.7522e-05 - val_auc: 0.9925\n",
      "\n",
      "Epoch 00006: val_loss improved from 0.00002 to 0.00002, saving model to ./DDoS_TCP.h5\n",
      "Epoch 7/15\n",
      "3127/3127 [==============================] - 1332s 426ms/step - loss: 2.6251e-05 - auc: 0.9866 - val_loss: 9.8346e-06 - val_auc: 1.0000\n",
      "\n",
      "Epoch 00007: val_loss improved from 0.00002 to 0.00001, saving model to ./DDoS_TCP.h5\n",
      "Epoch 8/15\n",
      "3127/3127 [==============================] - 1334s 427ms/step - loss: 1.0520e-04 - auc: 0.9784 - val_loss: 1.6481e-05 - val_auc: 0.9925\n",
      "\n",
      "Epoch 00008: val_loss did not improve from 0.00001\n",
      "Epoch 9/15\n",
      "3127/3127 [==============================] - 1330s 425ms/step - loss: 7.4934e-05 - auc: 0.9834 - val_loss: 2.1750e-05 - val_auc: 0.9739\n",
      "\n",
      "Epoch 00009: val_loss did not improve from 0.00001\n",
      "Restoring model weights from the end of the best epoch.\n",
      "\n",
      "Epoch 00009: ReduceLROnPlateau reducing learning rate to 0.0003600000170990825.\n",
      "Epoch 00009: early stopping\n"
     ]
    }
   ],
   "source": [
    "model = Sequential()\n",
    "model.add(Conv1D(16,2,input_shape = (X_test.shape[1], 1)))\n",
    "model.add(Conv1D(16,2))\n",
    "model.add(MaxPooling1D(1))\n",
    "\n",
    "\n",
    "model.add(Conv1D(32,2))\n",
    "model.add(Conv1D(32,2))\n",
    "model.add(MaxPooling1D(1))\n",
    "\n",
    "model.add(Conv1D(64,2))\n",
    "model.add(Conv1D(64,2))\n",
    "model.add(MaxPooling1D(1))\n",
    "\n",
    "model.add(Conv1D(128,2))\n",
    "model.add(Conv1D(128,2))\n",
    "model.add(MaxPooling1D(1))\n",
    "\n",
    "#model.add(LSTM(32, activation = 'relu', return_sequences=True))\n",
    "#model.add(LSTM(16, return_sequences=True))  # returns a sequence of vectors of dimension 16\n",
    "model.add(Flatten())\n",
    "model.add(Dense(64, activation='relu'))\n",
    "model.add(Dropout(rate=0.2))\n",
    "model.add(Dense(32, activation='relu'))\n",
    "model.add(Dropout(rate=0.2))\n",
    "\n",
    "model.add(Dense(1,activation='sigmoid'))\n",
    "optimizer = Adam(learning_rate=learning_rate)\n",
    "#model.compile(loss='binary_crossentropy', optimizer=optimizer,metrics=['accuracy'])\n",
    "model.compile(loss='binary_crossentropy', optimizer=optimizer,metrics=[keras.metrics.AUC(name='auc')])\n",
    "\n",
    "\n",
    "history = model.fit(X_train_cnn,\n",
    "                    y_train,\n",
    "                    batch_size=batch_size,\n",
    "                    steps_per_epoch=X_train.shape[0] // batch_size,\n",
    "                    epochs=epochs,\n",
    "                    validation_data=(X_test_cnn,y_test),\n",
    "                    callbacks = [model_save, early_stop, reduce_lr],)"
   ]
  },
  {
   "cell_type": "markdown",
   "metadata": {
    "papermill": {
     "duration": 68.584872,
     "end_time": "2021-11-30T00:05:52.86964",
     "exception": false,
     "start_time": "2021-11-30T00:04:44.284768",
     "status": "completed"
    },
    "tags": []
   },
   "source": [
    "# Final Evaluations of the Model"
   ]
  },
  {
   "cell_type": "code",
   "execution_count": 26,
   "metadata": {
    "execution": {
     "iopub.execute_input": "2023-02-19T23:10:25.922283Z",
     "iopub.status.busy": "2023-02-19T23:10:25.921688Z",
     "iopub.status.idle": "2023-02-19T23:12:30.435794Z",
     "shell.execute_reply": "2023-02-19T23:12:30.434800Z",
     "shell.execute_reply.started": "2023-02-19T23:10:25.922203Z"
    },
    "papermill": {
     "duration": 71.190409,
     "end_time": "2021-11-30T00:08:12.413056",
     "exception": false,
     "start_time": "2021-11-30T00:07:01.222647",
     "status": "completed"
    },
    "tags": []
   },
   "outputs": [
    {
     "name": "stdout",
     "output_type": "stream",
     "text": [
      "AUC: 0.993\n"
     ]
    }
   ],
   "source": [
    "y_pred = model.predict(X_test_cnn, batch_size=512)\n",
    "AUC = metrics.roc_auc_score(y_test,y_pred)\n",
    "print(\"AUC: {:.3f}\".format(AUC))"
   ]
  },
  {
   "cell_type": "code",
   "execution_count": 27,
   "metadata": {
    "execution": {
     "iopub.execute_input": "2023-02-19T23:30:03.486264Z",
     "iopub.status.busy": "2023-02-19T23:30:03.485868Z",
     "iopub.status.idle": "2023-02-19T23:30:03.505644Z",
     "shell.execute_reply": "2023-02-19T23:30:03.504295Z",
     "shell.execute_reply.started": "2023-02-19T23:30:03.486223Z"
    },
    "papermill": {
     "duration": 68.329157,
     "end_time": "2021-11-30T00:10:29.246516",
     "exception": false,
     "start_time": "2021-11-30T00:09:20.917359",
     "status": "completed"
    },
    "tags": []
   },
   "outputs": [],
   "source": [
    "hist_df = pd.DataFrame(history.history)\n",
    "hist_df.to_csv('history.csv')"
   ]
  },
  {
   "cell_type": "markdown",
   "metadata": {
    "papermill": {
     "duration": 68.528895,
     "end_time": "2021-11-30T00:12:46.257436",
     "exception": false,
     "start_time": "2021-11-30T00:11:37.728541",
     "status": "completed"
    },
    "tags": []
   },
   "source": [
    "### Training Curves"
   ]
  },
  {
   "cell_type": "code",
   "execution_count": 28,
   "metadata": {
    "execution": {
     "iopub.execute_input": "2023-02-19T23:30:17.167903Z",
     "iopub.status.busy": "2023-02-19T23:30:17.166944Z",
     "iopub.status.idle": "2023-02-19T23:30:17.536224Z",
     "shell.execute_reply": "2023-02-19T23:30:17.535332Z",
     "shell.execute_reply.started": "2023-02-19T23:30:17.167858Z"
    },
    "papermill": {
     "duration": 68.670865,
     "end_time": "2021-11-30T00:15:03.302107",
     "exception": false,
     "start_time": "2021-11-30T00:13:54.631242",
     "status": "completed"
    },
    "tags": []
   },
   "outputs": [
    {
     "data": {
      "image/png": "[encoded data removed]",
      "text/plain": [
       "<Figure size 1080x360 with 1 Axes>"
      ]
     },
     "metadata": {
      "needs_background": "light"
     },
     "output_type": "display_data"
    }
   ],
   "source": [
    "plt.figure(figsize=(15,5))\n",
    "plt.plot(range(history.epoch[-1]+1),history.history['val_auc'],label='val_auc')\n",
    "plt.plot(range(history.epoch[-1]+1),history.history['auc'],label='auc')\n",
    "plt.title('auc'); plt.xlabel('Epoch'); plt.ylabel('auc');plt.legend(); \n",
    "plt.show()"
   ]
  },
  {
   "cell_type": "code",
   "execution_count": 29,
   "metadata": {
    "execution": {
     "iopub.execute_input": "2023-02-19T23:30:24.438920Z",
     "iopub.status.busy": "2023-02-19T23:30:24.437743Z",
     "iopub.status.idle": "2023-02-19T23:30:24.723841Z",
     "shell.execute_reply": "2023-02-19T23:30:24.722802Z",
     "shell.execute_reply.started": "2023-02-19T23:30:24.438863Z"
    },
    "papermill": {
     "duration": 68.761336,
     "end_time": "2021-11-30T00:17:20.38581",
     "exception": false,
     "start_time": "2021-11-30T00:16:11.624474",
     "status": "completed"
    },
    "tags": []
   },
   "outputs": [
    {
     "data": {
      "image/png": "[encoded data removed]",
      "text/plain": [
       "<Figure size 1080x360 with 1 Axes>"
      ]
     },
     "metadata": {
      "needs_background": "light"
     },
     "output_type": "display_data"
    }
   ],
   "source": [
    "plt.figure(figsize=(15,5))\n",
    "plt.plot(range(history.epoch[-1]+1),history.history['val_loss'],label='Val_loss')\n",
    "plt.plot(range(history.epoch[-1]+1),history.history['loss'],label='loss')\n",
    "plt.title('loss'); plt.xlabel('Epoch'); plt.ylabel('loss');plt.legend(); \n",
    "plt.show()"
   ]
  },
  {
   "cell_type": "markdown",
   "metadata": {
    "papermill": {
     "duration": 68.292969,
     "end_time": "2021-11-30T00:19:36.714426",
     "exception": false,
     "start_time": "2021-11-30T00:18:28.421457",
     "status": "completed"
    },
    "tags": []
   },
   "source": [
    "### ROC Curve"
   ]
  },
  {
   "cell_type": "code",
   "execution_count": 30,
   "metadata": {
    "execution": {
     "iopub.execute_input": "2023-02-19T23:30:31.513347Z",
     "iopub.status.busy": "2023-02-19T23:30:31.513006Z",
     "iopub.status.idle": "2023-02-19T23:30:32.116281Z",
     "shell.execute_reply": "2023-02-19T23:30:32.115543Z",
     "shell.execute_reply.started": "2023-02-19T23:30:31.513314Z"
    },
    "papermill": {
     "duration": 68.956713,
     "end_time": "2021-11-30T00:21:54.123494",
     "exception": false,
     "start_time": "2021-11-30T00:20:45.166781",
     "status": "completed"
    },
    "tags": []
   },
   "outputs": [
    {
     "data": {
      "image/png": "[encoded data removed]",
      "text/plain": [
       "<Figure size 432x288 with 1 Axes>"
      ]
     },
     "metadata": {
      "needs_background": "light"
     },
     "output_type": "display_data"
    }
   ],
   "source": [
    "def generate_results(y_test, y_score):\n",
    "    # print(y_score)\n",
    "    fpr, tpr, _ = roc_curve(y_test, y_score)\n",
    "    roc_auc = auc(fpr, tpr)\n",
    "    plt.figure()\n",
    "    plt.plot(fpr, tpr, color='darkorange',\n",
    "             lw=2, label='ROC curve (area = %0.2f)' % roc_auc)\n",
    "    plt.plot([0, 1], [0, 1], color='navy', lw=2, linestyle='--')\n",
    "    plt.xlim([0.0, 1.0])\n",
    "    plt.ylim([0.0, 1.05])\n",
    "    plt.xlabel('False Positive Rate')\n",
    "    plt.ylabel('True Positive Rate')\n",
    "    plt.title('ROC Curve')\n",
    "    plt.legend(loc=\"lower right\")\n",
    "    plt.show()\n",
    "    \n",
    "generate_results(y_test, y_pred)"
   ]
  },
  {
   "cell_type": "code",
   "execution_count": null,
   "metadata": {},
   "outputs": [],
   "source": []
  }
 ],
 "metadata": {
  "kernelspec": {
   "display_name": "Python 3",
   "language": "python",
   "name": "python3"
  },
  "language_info": {
   "codemirror_mode": {
    "name": "ipython",
    "version": 3
   },
   "file_extension": ".py",
   "mimetype": "text/x-python",
   "name": "python",
   "nbconvert_exporter": "python",
   "pygments_lexer": "ipython3",
   "version": "3.8.8"
  }
 },
 "nbformat": 4,
 "nbformat_minor": 4
}
